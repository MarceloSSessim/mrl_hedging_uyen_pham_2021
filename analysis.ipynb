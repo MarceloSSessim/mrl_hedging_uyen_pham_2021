{
 "cells": [
  {
   "cell_type": "code",
   "execution_count": 27,
   "id": "8294e996",
   "metadata": {},
   "outputs": [],
   "source": [
    "import yfinance as yf\n",
    "import plotly.graph_objects as go\n",
    "import pandas as pd\n",
    "import matplotlib.pyplot as plt\n",
    "import numpy as np"
   ]
  },
  {
   "cell_type": "code",
   "execution_count": 4,
   "id": "1b47d43f",
   "metadata": {},
   "outputs": [
    {
     "name": "stdout",
     "output_type": "stream",
     "text": [
      "raw_prices shape: (667, 11)\n",
      "returns_log shape: (667, 11)\n",
      "raw_prices.columns: ['AAPL', 'AMZN', 'GOOGL', 'INTC', 'META', 'MSFT', 'NFLX', 'NVDA', 'TSLA', 'XOM', 'SPY']\n",
      "returns_log.columns: ['AAPL', 'AMZN', 'GOOGL', 'INTC', 'META', 'MSFT', 'NFLX', 'NVDA', 'TSLA', 'XOM', 'SPY']\n"
     ]
    }
   ],
   "source": [
    "price_df = pd.read_csv(\"data/processed/raw_prices.csv\", index_col=0).astype(np.float32)\n",
    "return_df = pd.read_csv(\"data/processed/returns_log.csv\", index_col=0).astype(np.float32)\n",
    "\n",
    "print(\"raw_prices shape:\", price_df.shape)\n",
    "print(\"returns_log shape:\", return_df.shape)\n",
    "\n",
    "print(\"raw_prices.columns:\", price_df.columns.tolist())\n",
    "print(\"returns_log.columns:\", return_df.columns.tolist())"
   ]
  },
  {
   "cell_type": "markdown",
   "id": "1f6a152f",
   "metadata": {},
   "source": [
    "### buy and hold strategy"
   ]
  },
  {
   "cell_type": "code",
   "execution_count": 5,
   "id": "f45eae9a",
   "metadata": {},
   "outputs": [],
   "source": [
    "evaluation_periods = {\n",
    "    \"Period 1\": [\"2019-09-25\", \"2019-10-17\"],\n",
    "    \"Period 2\": [\"2019-10-18\", \"2019-11-21\"],\n",
    "    \"Period 3\": [\"2019-11-22\", \"2019-12-19\"],\n",
    "    \"Period 4\": [\"2019-12-20\", \"2020-01-16\"],\n",
    "    \"Period 5\": [\"2020-01-17\", \"2020-02-20\"],\n",
    "    \"Period 6\": [\"2020-02-21\", \"2020-03-19\"],\n",
    "    \"Period 7\": [\"2020-03-20\", \"2020-04-16\"],\n",
    "    \"Period 8\": [\"2020-04-17\", \"2020-05-20\"],\n",
    "}"
   ]
  },
  {
   "cell_type": "code",
   "execution_count": 6,
   "id": "dc5eb14f",
   "metadata": {},
   "outputs": [
    {
     "name": "stdout",
     "output_type": "stream",
     "text": [
      "               AAPL       AMZN      GOOGL       INTC       META       MSFT  \\\n",
      "Period 1   6.447097   1.082948   0.550585   1.646427   4.152097   0.236812   \n",
      "Period 2  11.161374  -1.297298   4.478424  13.980558   6.499855   9.154059   \n",
      "Period 3   6.967640   2.667089   4.852062   0.607546   3.641470   4.091212   \n",
      "Period 4  12.811327   5.118395   7.322297   1.204396   7.498787   5.565086   \n",
      "Period 5   0.731072  15.465055   2.532579  10.356212  -3.403259  10.666508   \n",
      "Period 6 -21.808014 -10.259687 -25.062359 -28.598064 -27.143393 -20.090729   \n",
      "Period 7  25.061092  30.448141  17.713743  32.642345  17.711882  28.896978   \n",
      "Period 8  13.187468   5.176424  10.176698   5.129935  28.302837   4.242497   \n",
      "\n",
      "               NFLX       NVDA       TSLA        XOM        SPY  \n",
      "Period 1  10.802646   9.010850  14.547439  -4.498919   0.557763  \n",
      "Period 2  13.218313  10.336500  38.093014   4.289618   4.127924  \n",
      "Period 3   7.002058  11.733033  21.318760   0.028837   3.196545  \n",
      "Period 4   0.510538   3.993817  26.603218  -1.601365   3.177149  \n",
      "Period 5  13.639705  23.836679  76.182175 -11.436148   1.506246  \n",
      "Period 6 -12.639779 -27.535149 -52.537178 -41.772366 -27.878723  \n",
      "Period 7  31.950253  43.232029  74.305901  19.578466  21.984261  \n",
      "Period 8   5.842165  22.742180   8.180235   7.009914   3.589875  \n"
     ]
    }
   ],
   "source": [
    "# Função para calcular retorno Buy and Hold\n",
    "def compute_buy_and_hold_returns(price_df, periods_dict):\n",
    "    results = {}\n",
    "    for period_name, (start_date, end_date) in periods_dict.items():\n",
    "        start_prices = price_df.loc[start_date]\n",
    "        end_prices = price_df.loc[end_date]\n",
    "        returns = ((end_prices - start_prices) / start_prices) * 100\n",
    "        results[period_name] = returns\n",
    "    return pd.DataFrame(results).T  # Transpõe para ficar com períodos nas linhas\n",
    "\n",
    "# Aplica a função ao DataFrame de preços\n",
    "buy_hold_df = compute_buy_and_hold_returns(price_df, evaluation_periods)\n",
    "\n",
    "# Resultado\n",
    "print(buy_hold_df)"
   ]
  },
  {
   "cell_type": "code",
   "execution_count": 7,
   "id": "be17dcec",
   "metadata": {},
   "outputs": [
    {
     "name": "stdout",
     "output_type": "stream",
     "text": [
      "YF.download() has changed argument auto_adjust default to True\n"
     ]
    },
    {
     "name": "stderr",
     "output_type": "stream",
     "text": [
      "[*********************100%***********************]  1 of 1 completed"
     ]
    },
    {
     "name": "stdout",
     "output_type": "stream",
     "text": [
      "               AAPL       AMZN     GOOGL       INTC      META       MSFT  \\\n",
      "Period 1   6.447097   1.082948  0.550585   1.646427  4.152097   0.236812   \n",
      "Period 2  11.161374  -1.297298  4.478424  13.980558  6.499855   9.154059   \n",
      "Period 3   6.967640   2.667089  4.852062   0.607546  3.641470   4.091212   \n",
      "Period 4  12.811327   5.118395  7.322297   1.204396  7.498787   5.565086   \n",
      "Period 5   0.731072  15.465055  2.532579  10.356212 -3.403259  10.666508   \n",
      "\n",
      "               NFLX       NVDA       TSLA        XOM       SPY    S&P500  \n",
      "Period 1  10.802646   9.010850  14.547439  -4.498919  0.557763  1.056760  \n",
      "Period 2  13.218313  10.336500  38.093014   4.289618  4.127924  3.522076  \n",
      "Period 3   7.002058  11.733033  21.318760   0.028837  3.196545  3.281094  \n",
      "Period 4   0.510538   3.993817  26.603218  -1.601365  3.177149  3.476664  \n",
      "Period 5  13.639705  23.836679  76.182175 -11.436148  1.506246  1.701030  \n"
     ]
    },
    {
     "name": "stderr",
     "output_type": "stream",
     "text": [
      "\n"
     ]
    }
   ],
   "source": [
    "# Ticker e intervalo de datas\n",
    "ticker = \"^GSPC\"  # ou \"SPY\"\n",
    "start_date = \"2019-09-20\"\n",
    "end_date = \"2020-05-21\"\n",
    "\n",
    "# Download dos dados\n",
    "df = yf.download(ticker, start=start_date, end=end_date)\n",
    "\n",
    "# Cálculo dos retornos diários com base na coluna Close\n",
    "df['daily_return'] = df['Close'].pct_change() * 100  # em porcentagem\n",
    "\n",
    "# Remove o primeiro valor (NaN)\n",
    "df_returns = df[['daily_return']].dropna().reset_index()\n",
    "\n",
    "# Renomeia colunas para clareza\n",
    "df_returns.rename(columns={'Date': 'date', 'daily_return': 'sp500_daily_return_pct'}, inplace=True)\n",
    "\n",
    "# Garante que a coluna 'date' é datetime\n",
    "df_returns['date'] = pd.to_datetime(df_returns['date'])\n",
    "\n",
    "# Lista para armazenar resultados\n",
    "period_returns = []\n",
    "\n",
    "# Loop pelos períodos\n",
    "for period_name, (start, end) in evaluation_periods.items():\n",
    "    mask = (df_returns['date'] >= start) & (df_returns['date'] <= end)\n",
    "    period_data = df_returns.loc[mask, 'sp500_daily_return_pct']\n",
    "    \n",
    "    if not period_data.empty:\n",
    "        cumulative_return = (1 + period_data / 100).prod() - 1  # retorno acumulado\n",
    "        period_returns.append({\n",
    "            \"period\": period_name,\n",
    "            \"start_date\": start,\n",
    "            \"end_date\": end,\n",
    "            \"sp500_period_return_pct\": cumulative_return * 100  # em percentual\n",
    "        })\n",
    "\n",
    "# Cria o DataFrame final\n",
    "df_period_returns = pd.DataFrame(period_returns)\n",
    "\n",
    "# Garante que df_period_returns está com o índice correto e renomeado\n",
    "df_sp500 = df_period_returns.set_index(\"period\")[['sp500_period_return_pct']]\n",
    "df_sp500.rename(columns={'sp500_period_return_pct': 'S&P500'}, inplace=True)\n",
    "\n",
    "# Adiciona a coluna 'S&P500' ao buy_hold_df\n",
    "buy_hold_df['S&P500'] = df_sp500['S&P500']\n",
    "\n",
    "# Pronto!\n",
    "print(buy_hold_df.head())\n"
   ]
  },
  {
   "cell_type": "code",
   "execution_count": 8,
   "id": "a3e0893d",
   "metadata": {},
   "outputs": [],
   "source": [
    "agent_df = pd.read_csv(\"evaluation_outputs/position_value_series.csv\", index_col=0).astype(np.float32)\n"
   ]
  },
  {
   "cell_type": "code",
   "execution_count": 9,
   "id": "93817f93",
   "metadata": {},
   "outputs": [
    {
     "name": "stdout",
     "output_type": "stream",
     "text": [
      "             AAPL     AMZN    GOOGL     INTC     META     MSFT     NFLX  \\\n",
      "Period                                                                    \n",
      "Period 1  15.1283  14.5393  14.3285  14.3190  15.1256  14.2135  15.7259   \n",
      "Period 2   1.7790   1.4676   1.6120   1.8495   1.6625   1.7289   1.8305   \n",
      "Period 3   0.5393   0.4774   0.5088   0.4478   0.4914   0.4979   0.5398   \n",
      "Period 4   0.4477   0.3490   0.3773   0.2988   0.3796   0.3548   0.2899   \n",
      "Period 5   0.2914   0.4803   0.3145   0.4148   0.2384   0.4188   0.4569   \n",
      "Period 6  -0.0710   0.0662  -0.1097  -0.1517  -0.1344  -0.0506   0.0379   \n",
      "Period 7   0.4367   0.4985   0.3522   0.5237   0.3522   0.4807   0.5158   \n",
      "Period 8   0.3178   0.2246   0.2828   0.2240   0.4938   0.2137   0.2323   \n",
      "\n",
      "             NVDA     TSLA      XOM        SPY  \n",
      "Period                                          \n",
      "Period 1  15.9676  15.2291  13.2991  16.094801  \n",
      "Period 2   1.7584   2.4523   1.6072   1.429700  \n",
      "Period 3   0.6079   0.7458   0.4394   0.464000  \n",
      "Period 4   0.3346   0.6247   0.2628   0.314700  \n",
      "Period 5   0.5876   1.2587   0.1354   0.294200  \n",
      "Period 6  -0.1390  -0.4361  -0.3082  -0.145700  \n",
      "Period 7   0.6454   1.0024   0.3737   0.388400  \n",
      "Period 8   0.4291   0.2595   0.2459   0.204900  \n"
     ]
    }
   ],
   "source": [
    "# Supondo que agent_df já tem o índice como datetime\n",
    "agent_df.index = pd.to_datetime(agent_df.index)\n",
    "\n",
    "# Renomeia as colunas\n",
    "agent_df.columns = ['AAPL', 'AMZN', 'GOOGL', 'INTC', 'META', \n",
    "                    'MSFT', 'NFLX', 'NVDA', 'TSLA', 'XOM', 'SPY']\n",
    "\n",
    "returns = {}\n",
    "\n",
    "for period_name, (start_date, end_date) in evaluation_periods.items():\n",
    "    try:\n",
    "        period_df = agent_df.loc[start_date:end_date]\n",
    "        period_returns = {}\n",
    "\n",
    "        for col in agent_df.columns:\n",
    "            series = period_df[col]\n",
    "\n",
    "            # Encontra o primeiro valor não-zero (ignora 0.0)\n",
    "            non_zero = series[series != 0]\n",
    "\n",
    "            if non_zero.empty:\n",
    "                # Ativo não teve alocação durante o período\n",
    "                period_returns[col] = np.nan\n",
    "            else:\n",
    "                initial = non_zero.iloc[0]\n",
    "                final = series.iloc[-1]\n",
    "                period_returns[col] = round((final - initial) / initial, 4)\n",
    "\n",
    "        returns[period_name] = period_returns\n",
    "\n",
    "    except Exception as e:\n",
    "        print(f\"⚠️ Erro ao processar {period_name}: {e}\")\n",
    "        continue\n",
    "\n",
    "# Concatena os resultados\n",
    "returns_df = pd.DataFrame(returns).T  # transposto para ficar com períodos nas linhas\n",
    "returns_df.index.name = \"Period\"\n",
    "\n",
    "# Exibe ou salva\n",
    "print(returns_df)\n",
    "# returns_df.to_csv(\"evaluation_returns.csv\")\n"
   ]
  },
  {
   "cell_type": "code",
   "execution_count": 10,
   "id": "3675db98",
   "metadata": {},
   "outputs": [],
   "source": [
    "portfolio_df = pd.read_csv(\"evaluation_outputs/portfolio_total_series.csv\", index_col=0).astype(np.float32)"
   ]
  },
  {
   "cell_type": "code",
   "execution_count": 16,
   "id": "a5168e04",
   "metadata": {},
   "outputs": [
    {
     "name": "stdout",
     "output_type": "stream",
     "text": [
      "            portfolio_daily_return_pct\n",
      "date                                  \n",
      "2019-09-25                   -0.088225\n",
      "2019-09-26                   -0.178606\n",
      "2019-09-27                   -0.179825\n",
      "2019-09-30                   -0.177794\n",
      "2019-10-01                   -0.180869\n"
     ]
    }
   ],
   "source": [
    "initial_value = 1_000_000\n",
    "\n",
    "portfolio_df.index = pd.to_datetime(portfolio_df.index)\n",
    "\n",
    "# Define o valor inicial como 1.000.000 no dia anterior\n",
    "initial_value = 1_000_000\n",
    "\n",
    "# Calcula o retorno percentual em relação ao valor inicial\n",
    "portfolio_df['portfolio_daily_return_pct'] = (portfolio_df['portfolio_total'] / initial_value - 1) * 100\n",
    "\n",
    "# Visualiza resultado\n",
    "print(portfolio_df[['portfolio_daily_return_pct']].head())"
   ]
  },
  {
   "cell_type": "code",
   "execution_count": 17,
   "id": "28253de5",
   "metadata": {},
   "outputs": [
    {
     "name": "stderr",
     "output_type": "stream",
     "text": [
      "[*********************100%***********************]  1 of 1 completed\n"
     ]
    },
    {
     "data": {
      "image/png": "[encoded data removed]",
      "text/plain": [
       "<Figure size 1200x600 with 1 Axes>"
      ]
     },
     "metadata": {},
     "output_type": "display_data"
    }
   ],
   "source": [
    "# --- 1. Benchmark: S&P 500 ---\n",
    "benchmark_ticker = \"^GSPC\"\n",
    "start_date = \"2019-09-25\"\n",
    "end_date = \"2020-05-20\"\n",
    "\n",
    "benchmark_data = yf.download(benchmark_ticker, start=start_date, end=end_date)\n",
    "benchmark_data['Return'] = benchmark_data['Close'].pct_change()\n",
    "benchmark_data['Cumulative Return'] = (1 + benchmark_data['Return']).cumprod() - 1\n",
    "benchmark_data['Cumulative Return'] *= 100  # em porcentagem\n",
    "\n",
    "# --- 2. Portfólio ---\n",
    "# Supondo que portfolio_df tem índice datetime e coluna 'portfolio_total'\n",
    "initial_value = 1_000_000\n",
    "portfolio_df['Cumulative Return'] = (portfolio_df['portfolio_total'] / initial_value - 1) * 100\n",
    "\n",
    "# Alinha as datas (opcional, dependendo da frequência de dados)\n",
    "common_dates = benchmark_data.index.intersection(portfolio_df.index)\n",
    "\n",
    "# --- 3. Gráfico ---\n",
    "plt.figure(figsize=(12,6))\n",
    "plt.plot(benchmark_data.loc[common_dates].index,\n",
    "         benchmark_data.loc[common_dates, 'Cumulative Return'],\n",
    "         label='S&P 500 Index', color='red')\n",
    "\n",
    "plt.plot(portfolio_df.loc[common_dates].index,\n",
    "         portfolio_df.loc[common_dates, 'Cumulative Return'],\n",
    "         label='Portfolio', color='black')\n",
    "\n",
    "plt.ylabel(\"Percent (%)\")\n",
    "plt.xlabel(\"Date\")\n",
    "plt.title(\"Portfolio vs S&P 500 Benchmark\")\n",
    "plt.legend()\n",
    "plt.grid(True)\n",
    "plt.show()"
   ]
  },
  {
   "cell_type": "code",
   "execution_count": 23,
   "id": "3f1dadd8",
   "metadata": {},
   "outputs": [],
   "source": [
    "# Constrói a tabela de retornos por período\n",
    "period_returns = {}\n",
    "for period, (start_date, end_date) in evaluation_periods.items():\n",
    "    mask = (portfolio_df.index >= start_date) & (portfolio_df.index <= end_date)\n",
    "    period_data = portfolio_df.loc[mask, 'portfolio_daily_return_pct']\n",
    "    \n",
    "    if not period_data.empty:\n",
    "        # Converte para fator de retorno e calcula acumulado\n",
    "        cumulative_return = (1 + period_data / 100).prod() - 1\n",
    "        period_returns[period] = cumulative_return * 100  # em %\n",
    "\n",
    "# Cria o DataFrame com índice = período e coluna renomeada\n",
    "portfolio_period = pd.DataFrame.from_dict(period_returns, orient='index', columns=['Portfolio'])\n",
    "\n",
    "returns_df[\"Portfolio\"] = portfolio_period[\"Portfolio\"]\n"
   ]
  },
  {
   "cell_type": "code",
   "execution_count": 24,
   "id": "24d6200d",
   "metadata": {},
   "outputs": [
    {
     "name": "stdout",
     "output_type": "stream",
     "text": [
      "             AAPL     AMZN    GOOGL     INTC     META     MSFT     NFLX  \\\n",
      "Period                                                                    \n",
      "Period 1  15.1283  14.5393  14.3285  14.3190  15.1256  14.2135  15.7259   \n",
      "Period 2   1.7790   1.4676   1.6120   1.8495   1.6625   1.7289   1.8305   \n",
      "Period 3   0.5393   0.4774   0.5088   0.4478   0.4914   0.4979   0.5398   \n",
      "Period 4   0.4477   0.3490   0.3773   0.2988   0.3796   0.3548   0.2899   \n",
      "Period 5   0.2914   0.4803   0.3145   0.4148   0.2384   0.4188   0.4569   \n",
      "Period 6  -0.0710   0.0662  -0.1097  -0.1517  -0.1344  -0.0506   0.0379   \n",
      "Period 7   0.4367   0.4985   0.3522   0.5237   0.3522   0.4807   0.5158   \n",
      "Period 8   0.3178   0.2246   0.2828   0.2240   0.4938   0.2137   0.2323   \n",
      "\n",
      "             NVDA     TSLA      XOM        SPY  Portfolio  \n",
      "Period                                                     \n",
      "Period 1  15.9676  15.2291  13.2991  16.094801  -2.681906  \n",
      "Period 2   1.7584   2.4523   1.6072   1.429700  -0.985180  \n",
      "Period 3   0.6079   0.7458   0.4394   0.464000   2.897032  \n",
      "Period 4   0.3346   0.6247   0.2628   0.314700  12.159936  \n",
      "Period 5   0.5876   1.2587   0.1354   0.294200  36.071554  \n",
      "Period 6  -0.1390  -0.4361  -0.3082  -0.145700  -7.946740  \n",
      "Period 7   0.6454   1.0024   0.3737   0.388400 -10.910270  \n",
      "Period 8   0.4291   0.2595   0.2459   0.204900  66.043350  \n",
      "               AAPL       AMZN      GOOGL       INTC       META       MSFT  \\\n",
      "Period 1   6.447097   1.082948   0.550585   1.646427   4.152097   0.236812   \n",
      "Period 2  11.161374  -1.297298   4.478424  13.980558   6.499855   9.154059   \n",
      "Period 3   6.967640   2.667089   4.852062   0.607546   3.641470   4.091212   \n",
      "Period 4  12.811327   5.118395   7.322297   1.204396   7.498787   5.565086   \n",
      "Period 5   0.731072  15.465055   2.532579  10.356212  -3.403259  10.666508   \n",
      "Period 6 -21.808014 -10.259687 -25.062359 -28.598064 -27.143393 -20.090729   \n",
      "Period 7  25.061092  30.448141  17.713743  32.642345  17.711882  28.896978   \n",
      "Period 8  13.187468   5.176424  10.176698   5.129935  28.302837   4.242497   \n",
      "\n",
      "               NFLX       NVDA       TSLA        XOM        SPY     S&P500  \n",
      "Period 1  10.802646   9.010850  14.547439  -4.498919   0.557763   1.056760  \n",
      "Period 2  13.218313  10.336500  38.093014   4.289618   4.127924   3.522076  \n",
      "Period 3   7.002058  11.733033  21.318760   0.028837   3.196545   3.281094  \n",
      "Period 4   0.510538   3.993817  26.603218  -1.601365   3.177149   3.476664  \n",
      "Period 5  13.639705  23.836679  76.182175 -11.436148   1.506246   1.701030  \n",
      "Period 6 -12.639779 -27.535149 -52.537178 -41.772366 -27.878723 -28.573210  \n",
      "Period 7  31.950253  43.232029  74.305901  19.578466  21.984261  16.193318  \n",
      "Period 8   5.842165  22.742180   8.180235   7.009914   3.589875   6.145990  \n"
     ]
    }
   ],
   "source": [
    "print(returns_df)\n",
    "print(buy_hold_df)"
   ]
  },
  {
   "cell_type": "code",
   "execution_count": 33,
   "id": "8def114d",
   "metadata": {},
   "outputs": [],
   "source": [
    "def save_table_plotly(df, filename, title=\"\"):\n",
    "    fig = go.Figure(data=[go.Table(\n",
    "        header=dict(\n",
    "            values=[\"Period\"] + list(df.columns),\n",
    "            fill_color='#d3d3d3',  # cinza claro no cabeçalho\n",
    "            align='center',\n",
    "            font=dict(size=12, color='black')\n",
    "        ),\n",
    "        cells=dict(\n",
    "            values=[[i for i in df.index]] + [\n",
    "                df[col].map(lambda x: f\"{x:.2f}%\").tolist() for col in df.columns\n",
    "            ],\n",
    "            fill_color='#f5f5f5',  # fundo da tabela\n",
    "            align='center',\n",
    "            font=dict(size=11, color='black')\n",
    "        )\n",
    "    )])\n",
    "\n",
    "    fig.update_layout(\n",
    "        width=1200,  # largura maior\n",
    "        height=200 + len(df),  # altura adaptativa\n",
    "        title=dict(\n",
    "            text=title,\n",
    "            x=0.5,\n",
    "            xanchor='center',\n",
    "            font=dict(size=16, family='Arial')\n",
    "        ),\n",
    "        margin=dict(l=20, r=20, t=60, b=20)\n",
    "    )\n",
    "\n",
    "    fig.write_image(filename, format='png', scale=2)\n",
    "\n",
    "save_table_plotly(returns_df, \"evaluation_outputs/portfolio_table.png\", \"Retornos por Período - Estratégia MARL\")\n",
    "save_table_plotly(buy_hold_df, \"evaluation_outputs/buy_hold_table.png\", \"Retornos por Período - Estratégia Buy & Hold\")\n",
    "\n"
   ]
  },
  {
   "cell_type": "code",
   "execution_count": 41,
   "id": "37baf058",
   "metadata": {},
   "outputs": [],
   "source": [
    "period_table = pd.DataFrame([\n",
    "    {\"Period\": k, \"Date Range\": f\"{v[0]} to {v[1]}\"}\n",
    "    for k, v in evaluation_periods.items()\n",
    "])\n",
    "\n",
    "def save_period_table_plotly(period_df, filename, title=\"Períodos de Avaliação\"):\n",
    "    fig = go.Figure(data=[go.Table(\n",
    "        header=dict(\n",
    "            values=list(period_df.columns),\n",
    "            fill_color='#d3d3d3',\n",
    "            align='center',\n",
    "            font=dict(size=12, color='black')\n",
    "        ),\n",
    "        cells=dict(\n",
    "            values=[period_df[col].tolist() for col in period_df.columns],\n",
    "            fill_color='#f5f5f5',\n",
    "            align='center',\n",
    "            font=dict(size=11, color='black')\n",
    "        )\n",
    "    )])\n",
    "\n",
    "    fig.update_layout(\n",
    "        width=600,\n",
    "        height=300 + len(period_df),  # altura proporcional às linhas\n",
    "        title=dict(\n",
    "            text=title,\n",
    "            x=0.5,\n",
    "            xanchor='center',\n",
    "            font=dict(size=16, family='Arial')\n",
    "        ),\n",
    "        margin=dict(l=20, r=20, t=60, b=20)\n",
    "    )\n",
    "\n",
    "    fig.write_image(filename, format='png', scale=2)\n",
    "\n",
    "save_period_table_plotly(period_table, \"evaluation_outputs/period_table.png\", \"Períodos de Avaliação\")\n"
   ]
  }
 ],
 "metadata": {
  "kernelspec": {
   "display_name": ".venv",
   "language": "python",
   "name": "python3"
  },
  "language_info": {
   "codemirror_mode": {
    "name": "ipython",
    "version": 3
   },
   "file_extension": ".py",
   "mimetype": "text/x-python",
   "name": "python",
   "nbconvert_exporter": "python",
   "pygments_lexer": "ipython3",
   "version": "3.10.17"
  }
 },
 "nbformat": 4,
 "nbformat_minor": 5
}
